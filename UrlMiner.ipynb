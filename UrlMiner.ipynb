{
 "cells": [
  {
   "cell_type": "code",
   "execution_count": 1,
   "metadata": {},
   "outputs": [],
   "source": [
    "from bs4 import BeautifulSoup\n",
    "import requests \n",
    "from selenium import webdriver\n",
    "from selenium.webdriver.firefox.options import Options\n",
    "import time\n",
    "from selenium.webdriver.common.by import By\n",
    "import pandas as pd\n",
    "import tqdm\n",
    "import pickle as pkl"
   ]
  },
  {
   "cell_type": "markdown",
   "metadata": {},
   "source": [
    "## Minerador de URL's"
   ]
  },
  {
   "cell_type": "code",
   "execution_count": 2,
   "metadata": {},
   "outputs": [
    {
     "name": "stdout",
     "output_type": "stream",
     "text": [
      "26\n"
     ]
    },
    {
     "ename": "NoSuchWindowException",
     "evalue": "Message: no such window: target window already closed\nfrom unknown error: web view not found\n  (Session info: chrome=114.0.5735.198)\nStacktrace:\n#0 0x557c4a2084e3 <unknown>\n#1 0x557c49f37c76 <unknown>\n#2 0x557c49f11c6c <unknown>\n#3 0x557c49f97f8f <unknown>\n#4 0x557c49faad66 <unknown>\n#5 0x557c49f92de3 <unknown>\n#6 0x557c49f682dd <unknown>\n#7 0x557c49f6934e <unknown>\n#8 0x557c4a1c83e4 <unknown>\n#9 0x557c4a1cc3d7 <unknown>\n#10 0x557c4a1d6b20 <unknown>\n#11 0x557c4a1cd023 <unknown>\n#12 0x557c4a19b1aa <unknown>\n#13 0x557c4a1f16b8 <unknown>\n#14 0x557c4a1f1847 <unknown>\n#15 0x557c4a201243 <unknown>\n#16 0x7f9d1ee94b43 <unknown>\n",
     "output_type": "error",
     "traceback": [
      "\u001b[0;31m---------------------------------------------------------------------------\u001b[0m",
      "\u001b[0;31mNoSuchWindowException\u001b[0m                     Traceback (most recent call last)",
      "Cell \u001b[0;32mIn[2], line 29\u001b[0m\n\u001b[1;32m     26\u001b[0m time\u001b[39m.\u001b[39msleep(\u001b[39m3\u001b[39m)\n\u001b[1;32m     28\u001b[0m \u001b[39m## Ache os elementos que contenham as urls do site (<a></a>)\u001b[39;00m\n\u001b[0;32m---> 29\u001b[0m links \u001b[39m=\u001b[39m driver\u001b[39m.\u001b[39;49mfind_elements(By\u001b[39m.\u001b[39;49mCLASS_NAME, \u001b[39m\"\u001b[39;49m\u001b[39mblog-post-vert\u001b[39;49m\u001b[39m\"\u001b[39;49m)\n\u001b[1;32m     31\u001b[0m \u001b[39m## Seleciona atributo 'href' da tag a de todos os links\u001b[39;00m\n\u001b[1;32m     32\u001b[0m links_suit \u001b[39m=\u001b[39m [x\u001b[39m.\u001b[39mfind_element(By\u001b[39m.\u001b[39mTAG_NAME, \u001b[39m\"\u001b[39m\u001b[39ma\u001b[39m\u001b[39m\"\u001b[39m)\u001b[39m.\u001b[39mget_attribute(\u001b[39m\"\u001b[39m\u001b[39mhref\u001b[39m\u001b[39m\"\u001b[39m) \u001b[39mfor\u001b[39;00m x \u001b[39min\u001b[39;00m links]\n",
      "File \u001b[0;32m~/Documents/Faculdade/BD/Crawler/.venv/lib/python3.10/site-packages/selenium/webdriver/remote/webdriver.py:768\u001b[0m, in \u001b[0;36mWebDriver.find_elements\u001b[0;34m(self, by, value)\u001b[0m\n\u001b[1;32m    764\u001b[0m     value \u001b[39m=\u001b[39m \u001b[39mf\u001b[39m\u001b[39m'\u001b[39m\u001b[39m[name=\u001b[39m\u001b[39m\"\u001b[39m\u001b[39m{\u001b[39;00mvalue\u001b[39m}\u001b[39;00m\u001b[39m\"\u001b[39m\u001b[39m]\u001b[39m\u001b[39m'\u001b[39m\n\u001b[1;32m    766\u001b[0m \u001b[39m# Return empty list if driver returns null\u001b[39;00m\n\u001b[1;32m    767\u001b[0m \u001b[39m# See https://github.com/SeleniumHQ/selenium/issues/4555\u001b[39;00m\n\u001b[0;32m--> 768\u001b[0m \u001b[39mreturn\u001b[39;00m \u001b[39mself\u001b[39;49m\u001b[39m.\u001b[39;49mexecute(Command\u001b[39m.\u001b[39;49mFIND_ELEMENTS, {\u001b[39m\"\u001b[39;49m\u001b[39musing\u001b[39;49m\u001b[39m\"\u001b[39;49m: by, \u001b[39m\"\u001b[39;49m\u001b[39mvalue\u001b[39;49m\u001b[39m\"\u001b[39;49m: value})[\u001b[39m\"\u001b[39m\u001b[39mvalue\u001b[39m\u001b[39m\"\u001b[39m] \u001b[39mor\u001b[39;00m []\n",
      "File \u001b[0;32m~/Documents/Faculdade/BD/Crawler/.venv/lib/python3.10/site-packages/selenium/webdriver/remote/webdriver.py:344\u001b[0m, in \u001b[0;36mWebDriver.execute\u001b[0;34m(self, driver_command, params)\u001b[0m\n\u001b[1;32m    342\u001b[0m response \u001b[39m=\u001b[39m \u001b[39mself\u001b[39m\u001b[39m.\u001b[39mcommand_executor\u001b[39m.\u001b[39mexecute(driver_command, params)\n\u001b[1;32m    343\u001b[0m \u001b[39mif\u001b[39;00m response:\n\u001b[0;32m--> 344\u001b[0m     \u001b[39mself\u001b[39;49m\u001b[39m.\u001b[39;49merror_handler\u001b[39m.\u001b[39;49mcheck_response(response)\n\u001b[1;32m    345\u001b[0m     response[\u001b[39m\"\u001b[39m\u001b[39mvalue\u001b[39m\u001b[39m\"\u001b[39m] \u001b[39m=\u001b[39m \u001b[39mself\u001b[39m\u001b[39m.\u001b[39m_unwrap_value(response\u001b[39m.\u001b[39mget(\u001b[39m\"\u001b[39m\u001b[39mvalue\u001b[39m\u001b[39m\"\u001b[39m, \u001b[39mNone\u001b[39;00m))\n\u001b[1;32m    346\u001b[0m     \u001b[39mreturn\u001b[39;00m response\n",
      "File \u001b[0;32m~/Documents/Faculdade/BD/Crawler/.venv/lib/python3.10/site-packages/selenium/webdriver/remote/errorhandler.py:229\u001b[0m, in \u001b[0;36mErrorHandler.check_response\u001b[0;34m(self, response)\u001b[0m\n\u001b[1;32m    227\u001b[0m         alert_text \u001b[39m=\u001b[39m value[\u001b[39m\"\u001b[39m\u001b[39malert\u001b[39m\u001b[39m\"\u001b[39m]\u001b[39m.\u001b[39mget(\u001b[39m\"\u001b[39m\u001b[39mtext\u001b[39m\u001b[39m\"\u001b[39m)\n\u001b[1;32m    228\u001b[0m     \u001b[39mraise\u001b[39;00m exception_class(message, screen, stacktrace, alert_text)  \u001b[39m# type: ignore[call-arg]  # mypy is not smart enough here\u001b[39;00m\n\u001b[0;32m--> 229\u001b[0m \u001b[39mraise\u001b[39;00m exception_class(message, screen, stacktrace)\n",
      "\u001b[0;31mNoSuchWindowException\u001b[0m: Message: no such window: target window already closed\nfrom unknown error: web view not found\n  (Session info: chrome=114.0.5735.198)\nStacktrace:\n#0 0x557c4a2084e3 <unknown>\n#1 0x557c49f37c76 <unknown>\n#2 0x557c49f11c6c <unknown>\n#3 0x557c49f97f8f <unknown>\n#4 0x557c49faad66 <unknown>\n#5 0x557c49f92de3 <unknown>\n#6 0x557c49f682dd <unknown>\n#7 0x557c49f6934e <unknown>\n#8 0x557c4a1c83e4 <unknown>\n#9 0x557c4a1cc3d7 <unknown>\n#10 0x557c4a1d6b20 <unknown>\n#11 0x557c4a1cd023 <unknown>\n#12 0x557c4a19b1aa <unknown>\n#13 0x557c4a1f16b8 <unknown>\n#14 0x557c4a1f1847 <unknown>\n#15 0x557c4a201243 <unknown>\n#16 0x7f9d1ee94b43 <unknown>\n"
     ]
    }
   ],
   "source": [
    "## Escolher o site com o esporte selecionado:\n",
    "# Mantenha o padrão de url para formatação de nome automática.\n",
    "url = \"https://www.slamonline.com/category/news/nba\"\n",
    "\n",
    "options = webdriver.ChromeOptions()\n",
    "\n",
    "driver = webdriver.Chrome(options=options)\n",
    "\n",
    "driver.set_window_size(1920, 1080)\n",
    "\n",
    "driver.get(url)\n",
    "\n",
    "time.sleep(1)\n",
    "\n",
    "## Looping infinito para a coleta dos dados:\n",
    "while True:\n",
    "\n",
    "    driver.execute_script(f\"window.scrollTo(0, document.body.scrollHeight)\")\n",
    "\n",
    "    time.sleep(1)\n",
    "\n",
    "    ## Escolha um site com rolagem infinita com botão 'load more'.\n",
    "    ## Definam a expressão re de acordo com a Biblioteca Selenium para clicar no botão Load More.\n",
    "    driver.find_element(By.XPATH, '//button[normalize-space()=\"Load More\"]').click()\n",
    "\n",
    "    time.sleep(3)\n",
    "\n",
    "    ## Ache os elementos que contenham as urls do site (<a></a>)\n",
    "    links = driver.find_elements(By.CLASS_NAME, \"blog-post-vert\")\n",
    "\n",
    "    ## Seleciona atributo 'href' da tag a de todos os links\n",
    "    links_suit = [x.find_element(By.TAG_NAME, \"a\").get_attribute(\"href\") for x in links]\n",
    "\n",
    "    time.sleep(2)\n",
    "\n",
    "    print(len(links_suit))\n",
    "\n",
    "    ## Backup da lista de links\n",
    "    with open(f\"Links/Backup_{url.split('/')[-1]}.pkl\", \"wb\") as f:\n",
    "        pkl.dump(links_suit, f)\n",
    "\n",
    "driver.close()"
   ]
  }
 ],
 "metadata": {
  "kernelspec": {
   "display_name": "Python 3",
   "language": "python",
   "name": "python3"
  },
  "language_info": {
   "codemirror_mode": {
    "name": "ipython",
    "version": 3
   },
   "file_extension": ".py",
   "mimetype": "text/x-python",
   "name": "python",
   "nbconvert_exporter": "python",
   "pygments_lexer": "ipython3",
   "version": "3.10.12"
  },
  "orig_nbformat": 4
 },
 "nbformat": 4,
 "nbformat_minor": 2
}
