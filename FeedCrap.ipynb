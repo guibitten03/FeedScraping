{
 "cells": [
  {
   "cell_type": "code",
   "execution_count": 1,
   "metadata": {},
   "outputs": [],
   "source": [
    "from newspaper import Article\n",
    "import pickle as pkl\n",
    "import pandas as pd\n",
    "from tqdm import tqdm\n",
    "import os\n",
    "from pathlib import Path\n",
    "\n",
    "from DataBase import Database\n",
    "import sqlite3"
   ]
  },
  {
   "cell_type": "code",
   "execution_count": 2,
   "metadata": {},
   "outputs": [],
   "source": [
    "## Importe os links gerados pelo Minerador\n",
    "with open(\"Links/Backup_nba.pkl\", \"rb\") as f:\n",
    "    links = pkl.load(f)\n",
    "\n",
    "\n",
    "links = list(set(links))"
   ]
  },
  {
   "cell_type": "code",
   "execution_count": 3,
   "metadata": {},
   "outputs": [],
   "source": [
    "db = Database()\n",
    "db.connect(\"data/Database.db\")"
   ]
  },
  {
   "cell_type": "code",
   "execution_count": null,
   "metadata": {},
   "outputs": [],
   "source": [
    "## Defina o nome do esporte para a criação na tabela no banco de dados\n",
    "sport = \"nba\"\n",
    "db.cur.execute(f'''CREATE TABLE {sport} (\n",
    "    id INTEGER PRIMARY KEY AUTOINCREMENT,\n",
    "    title TEXT NOT NULL,\n",
    "    author TEXT NOT NULL,\n",
    "    data TEXT NOT NULL,\n",
    "    content TEXT NOT NULL\n",
    ")''')\n",
    "\n",
    "## Conferir se a tabela foi criada\n",
    "res = db.cur.execute(\"SELECT name FROM sqlite_master\")\n",
    "res.fetchone()"
   ]
  },
  {
   "cell_type": "code",
   "execution_count": 6,
   "metadata": {},
   "outputs": [
    {
     "name": "stderr",
     "output_type": "stream",
     "text": [
      "Sport News:   0%|          | 0/26 [00:07<?, ?it/s]\n"
     ]
    },
    {
     "ename": "ArticleException",
     "evalue": "Article `download()` failed with HTTPSConnectionPool(host='www.slamonline.com', port=443): Read timed out. (read timeout=7) on URL https://www.slamonline.com/news/nba/jayson-tatum-breaks-boston-record-for-most-50-point-games/",
     "output_type": "error",
     "traceback": [
      "\u001b[0;31m---------------------------------------------------------------------------\u001b[0m",
      "\u001b[0;31mArticleException\u001b[0m                          Traceback (most recent call last)",
      "Cell \u001b[0;32mIn[6], line 4\u001b[0m\n\u001b[1;32m      2\u001b[0m article \u001b[39m=\u001b[39m Article(link)\n\u001b[1;32m      3\u001b[0m article\u001b[39m.\u001b[39mdownload()\n\u001b[0;32m----> 4\u001b[0m article\u001b[39m.\u001b[39;49mparse()\n\u001b[1;32m      6\u001b[0m authors \u001b[39m=\u001b[39m \u001b[39mf\u001b[39m\u001b[39m\"\u001b[39m\u001b[39m{\u001b[39;00marticle\u001b[39m.\u001b[39mauthors\u001b[39m}\u001b[39;00m\u001b[39m\"\u001b[39m\n\u001b[1;32m      7\u001b[0m data \u001b[39m=\u001b[39m article\u001b[39m.\u001b[39mpublish_date\n",
      "File \u001b[0;32m~/Documents/Faculdade/BD/Crawler/.venv/lib/python3.10/site-packages/newspaper/article.py:191\u001b[0m, in \u001b[0;36mArticle.parse\u001b[0;34m(self)\u001b[0m\n\u001b[1;32m    190\u001b[0m \u001b[39mdef\u001b[39;00m \u001b[39mparse\u001b[39m(\u001b[39mself\u001b[39m):\n\u001b[0;32m--> 191\u001b[0m     \u001b[39mself\u001b[39;49m\u001b[39m.\u001b[39;49mthrow_if_not_downloaded_verbose()\n\u001b[1;32m    193\u001b[0m     \u001b[39mself\u001b[39m\u001b[39m.\u001b[39mdoc \u001b[39m=\u001b[39m \u001b[39mself\u001b[39m\u001b[39m.\u001b[39mconfig\u001b[39m.\u001b[39mget_parser()\u001b[39m.\u001b[39mfromstring(\u001b[39mself\u001b[39m\u001b[39m.\u001b[39mhtml)\n\u001b[1;32m    194\u001b[0m     \u001b[39mself\u001b[39m\u001b[39m.\u001b[39mclean_doc \u001b[39m=\u001b[39m copy\u001b[39m.\u001b[39mdeepcopy(\u001b[39mself\u001b[39m\u001b[39m.\u001b[39mdoc)\n",
      "File \u001b[0;32m~/Documents/Faculdade/BD/Crawler/.venv/lib/python3.10/site-packages/newspaper/article.py:531\u001b[0m, in \u001b[0;36mArticle.throw_if_not_downloaded_verbose\u001b[0;34m(self)\u001b[0m\n\u001b[1;32m    529\u001b[0m     \u001b[39mraise\u001b[39;00m ArticleException(\u001b[39m'\u001b[39m\u001b[39mYou must `download()` an article first!\u001b[39m\u001b[39m'\u001b[39m)\n\u001b[1;32m    530\u001b[0m \u001b[39melif\u001b[39;00m \u001b[39mself\u001b[39m\u001b[39m.\u001b[39mdownload_state \u001b[39m==\u001b[39m ArticleDownloadState\u001b[39m.\u001b[39mFAILED_RESPONSE:\n\u001b[0;32m--> 531\u001b[0m     \u001b[39mraise\u001b[39;00m ArticleException(\u001b[39m'\u001b[39m\u001b[39mArticle `download()` failed with \u001b[39m\u001b[39m%s\u001b[39;00m\u001b[39m on URL \u001b[39m\u001b[39m%s\u001b[39;00m\u001b[39m'\u001b[39m \u001b[39m%\u001b[39m\n\u001b[1;32m    532\u001b[0m           (\u001b[39mself\u001b[39m\u001b[39m.\u001b[39mdownload_exception_msg, \u001b[39mself\u001b[39m\u001b[39m.\u001b[39murl))\n",
      "\u001b[0;31mArticleException\u001b[0m: Article `download()` failed with HTTPSConnectionPool(host='www.slamonline.com', port=443): Read timed out. (read timeout=7) on URL https://www.slamonline.com/news/nba/jayson-tatum-breaks-boston-record-for-most-50-point-games/"
     ]
    }
   ],
   "source": [
    "for link in tqdm(links[2:], \"Sport News\"):\n",
    "    article = Article(link)\n",
    "    article.download()\n",
    "    article.parse()\n",
    "\n",
    "    authors = f\"{article.authors}\"\n",
    "    data = article.publish_date\n",
    "    title = article.title\n",
    "    content = article.text\n",
    "\n",
    "    sql = f'INSERT INTO {sport}(title, author, data, content) VALUES (?, ?, ?, ?)'\n",
    "    db.cur.execute(sql, (\n",
    "        ('title', title), \n",
    "        ('author', authors),\n",
    "        ('data', data),\n",
    "        ('content', content)\n",
    "        ))\n",
    "    db.commit()\n",
    "    \n",
    "\n",
    "    del article"
   ]
  },
  {
   "cell_type": "markdown",
   "metadata": {},
   "source": [
    "## Exemplo de uso da Biblioteca:"
   ]
  },
  {
   "cell_type": "code",
   "execution_count": null,
   "metadata": {},
   "outputs": [],
   "source": [
    "url = \"https://www.slamonline.com/news/nba/new-off-broadway-play-king-james-examines-how-lebrons-time-in-cleveland-helped-bring-two-strangers-together/\"\n",
    "article = Article(url)"
   ]
  },
  {
   "cell_type": "code",
   "execution_count": null,
   "metadata": {},
   "outputs": [],
   "source": [
    "article.download()\n",
    "article.parse()"
   ]
  },
  {
   "cell_type": "code",
   "execution_count": null,
   "metadata": {},
   "outputs": [
    {
     "data": {
      "text/plain": [
       "'“King James” Play Examines How LeBron Helped Bring Two Strangers Together'"
      ]
     },
     "execution_count": 7,
     "metadata": {},
     "output_type": "execute_result"
    }
   ],
   "source": [
    "article.title"
   ]
  },
  {
   "cell_type": "code",
   "execution_count": null,
   "metadata": {},
   "outputs": [
    {
     "data": {
      "text/plain": [
       "['Brooks Warren',\n",
       " 'Haben Fessehazion',\n",
       " 'Drew Ruiz',\n",
       " 'Deyscha Smith',\n",
       " 'Slam Staff',\n",
       " 'Ryan Jones',\n",
       " 'Ian Pierno']"
      ]
     },
     "execution_count": 6,
     "metadata": {},
     "output_type": "execute_result"
    }
   ],
   "source": [
    "article.authors"
   ]
  },
  {
   "cell_type": "code",
   "execution_count": null,
   "metadata": {},
   "outputs": [
    {
     "data": {
      "text/plain": [
       "datetime.datetime(2023, 6, 8, 17, 5, 32, tzinfo=tzoffset(None, -14400))"
      ]
     },
     "execution_count": 7,
     "metadata": {},
     "output_type": "execute_result"
    }
   ],
   "source": [
    "article.publish_date"
   ]
  },
  {
   "cell_type": "code",
   "execution_count": null,
   "metadata": {},
   "outputs": [
    {
     "data": {
      "text/plain": [
       "'“King James,” the new off-Broadway play, has taken over NYC in recent weeks. The production examines how sports fandom can bring people from different walks of life together and even spark friendships that otherwise may never be formed. In this case, it focuses on two young men in Cleveland who meet right as LeBron James is entering his rookie season with the Cleveland Cavaliers in 2003. The play proceeds to study how their friendship evolves throughout the years, and even hits a few bumps on the road, all while LeBron’s career is simultaneously evolving—the play starts in 2003 but ends over a decade later, following LeBron from Cleveland to Miami and back to Cleveland.\\n\\nChris Perfetti (Abbott Elementary, Gotham, Blue Bloods) plays Matt and Glenn Davis (actor, producer and Artistic Director of Steppenwolf Theatre Company; The Christians, Head of Passes, The Brother/Sister Plays, Downstate) plays Shawn. Collectively they perfectly (serious when it needs to be, and hilarious just as accordingly) bring to the forefront themes around race, family dynamics, friendship, death and betrayal. The play was written by Rajiv Joseph (Bengal Tiger at the Baghdad Zoo) and directed by Kenny Leon (A Raisin in the Sun, Fences), while Khloe Janel absolutely kills it from the DJ booth.\\n\\nYou can catch King James at the Manhattan Theatre Club until June 18.'"
      ]
     },
     "execution_count": 8,
     "metadata": {},
     "output_type": "execute_result"
    }
   ],
   "source": [
    "article.text"
   ]
  }
 ],
 "metadata": {
  "kernelspec": {
   "display_name": ".venv",
   "language": "python",
   "name": "python3"
  },
  "language_info": {
   "codemirror_mode": {
    "name": "ipython",
    "version": 3
   },
   "file_extension": ".py",
   "mimetype": "text/x-python",
   "name": "python",
   "nbconvert_exporter": "python",
   "pygments_lexer": "ipython3",
   "version": "3.10.12"
  },
  "orig_nbformat": 4
 },
 "nbformat": 4,
 "nbformat_minor": 2
}
