{
 "cells": [
  {
   "cell_type": "code",
   "execution_count": 1,
   "metadata": {},
   "outputs": [],
   "source": [
    "from newspaper import Article\n",
    "import pickle as pkl\n",
    "import pandas as pd\n",
    "from tqdm import tqdm\n",
    "import os\n",
    "from pathlib import Path"
   ]
  },
  {
   "cell_type": "code",
   "execution_count": 3,
   "metadata": {},
   "outputs": [],
   "source": [
    "with open(\"nba_links_news2.pkl\", \"rb\") as f:\n",
    "    links = pkl.load(f)\n",
    "\n",
    "links = list(set(links))"
   ]
  },
  {
   "cell_type": "code",
   "execution_count": 9,
   "metadata": {},
   "outputs": [
    {
     "name": "stderr",
     "output_type": "stream",
     "text": [
      "SAML News: 100%|██████████| 285/285 [07:07<00:00,  1.50s/it]\n"
     ]
    }
   ],
   "source": [
    "## Importante manter o padrão no nome para o salvamento automático\n",
    "dataset_name = \"tênnis_news.csv\"\n",
    "\n",
    "Path(dataset_name).mkdir(parents=True, exist_ok=True)\n",
    "\n",
    "news = pd.read_csv(dataset_name)\n",
    "\n",
    "for link in tqdm(links, f\"{dataset_name.split('_')[0]} News\"):\n",
    "    article = Article(link)\n",
    "    article.download()\n",
    "    article.parse()\n",
    "\n",
    "    authors = article.authors\n",
    "    data = article.publish_date\n",
    "    title = article.title\n",
    "    content = article.text\n",
    "\n",
    "    news.loc[news.shape[0]] = [title, authors, data, content]\n",
    "    news.to_csv(dataset_name, index=False)\n",
    "\n",
    "    del article"
   ]
  },
  {
   "cell_type": "markdown",
   "metadata": {},
   "source": [
    "## Exemplo de uso da Biblioteca:"
   ]
  },
  {
   "cell_type": "code",
   "execution_count": 4,
   "metadata": {},
   "outputs": [],
   "source": [
    "url = \"https://www.slamonline.com/news/nba/new-off-broadway-play-king-james-examines-how-lebrons-time-in-cleveland-helped-bring-two-strangers-together/\"\n",
    "article = Article(url)"
   ]
  },
  {
   "cell_type": "code",
   "execution_count": 5,
   "metadata": {},
   "outputs": [],
   "source": [
    "article.download()\n",
    "article.parse()"
   ]
  },
  {
   "cell_type": "code",
   "execution_count": 7,
   "metadata": {},
   "outputs": [
    {
     "data": {
      "text/plain": [
       "'“King James” Play Examines How LeBron Helped Bring Two Strangers Together'"
      ]
     },
     "execution_count": 7,
     "metadata": {},
     "output_type": "execute_result"
    }
   ],
   "source": [
    "article.title"
   ]
  },
  {
   "cell_type": "code",
   "execution_count": 6,
   "metadata": {},
   "outputs": [
    {
     "data": {
      "text/plain": [
       "['Brooks Warren',\n",
       " 'Haben Fessehazion',\n",
       " 'Drew Ruiz',\n",
       " 'Deyscha Smith',\n",
       " 'Slam Staff',\n",
       " 'Ryan Jones',\n",
       " 'Ian Pierno']"
      ]
     },
     "execution_count": 6,
     "metadata": {},
     "output_type": "execute_result"
    }
   ],
   "source": [
    "article.authors"
   ]
  },
  {
   "cell_type": "code",
   "execution_count": 7,
   "metadata": {},
   "outputs": [
    {
     "data": {
      "text/plain": [
       "datetime.datetime(2023, 6, 8, 17, 5, 32, tzinfo=tzoffset(None, -14400))"
      ]
     },
     "execution_count": 7,
     "metadata": {},
     "output_type": "execute_result"
    }
   ],
   "source": [
    "article.publish_date"
   ]
  },
  {
   "cell_type": "code",
   "execution_count": 8,
   "metadata": {},
   "outputs": [
    {
     "data": {
      "text/plain": [
       "'“King James,” the new off-Broadway play, has taken over NYC in recent weeks. The production examines how sports fandom can bring people from different walks of life together and even spark friendships that otherwise may never be formed. In this case, it focuses on two young men in Cleveland who meet right as LeBron James is entering his rookie season with the Cleveland Cavaliers in 2003. The play proceeds to study how their friendship evolves throughout the years, and even hits a few bumps on the road, all while LeBron’s career is simultaneously evolving—the play starts in 2003 but ends over a decade later, following LeBron from Cleveland to Miami and back to Cleveland.\\n\\nChris Perfetti (Abbott Elementary, Gotham, Blue Bloods) plays Matt and Glenn Davis (actor, producer and Artistic Director of Steppenwolf Theatre Company; The Christians, Head of Passes, The Brother/Sister Plays, Downstate) plays Shawn. Collectively they perfectly (serious when it needs to be, and hilarious just as accordingly) bring to the forefront themes around race, family dynamics, friendship, death and betrayal. The play was written by Rajiv Joseph (Bengal Tiger at the Baghdad Zoo) and directed by Kenny Leon (A Raisin in the Sun, Fences), while Khloe Janel absolutely kills it from the DJ booth.\\n\\nYou can catch King James at the Manhattan Theatre Club until June 18.'"
      ]
     },
     "execution_count": 8,
     "metadata": {},
     "output_type": "execute_result"
    }
   ],
   "source": [
    "article.text"
   ]
  }
 ],
 "metadata": {
  "kernelspec": {
   "display_name": ".venv",
   "language": "python",
   "name": "python3"
  },
  "language_info": {
   "codemirror_mode": {
    "name": "ipython",
    "version": 3
   },
   "file_extension": ".py",
   "mimetype": "text/x-python",
   "name": "python",
   "nbconvert_exporter": "python",
   "pygments_lexer": "ipython3",
   "version": "3.10.12"
  },
  "orig_nbformat": 4
 },
 "nbformat": 4,
 "nbformat_minor": 2
}
